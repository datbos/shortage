{
 "cells": [
  {
   "cell_type": "code",
   "execution_count": 1,
   "metadata": {},
   "outputs": [],
   "source": [
    "%matplotlib inline\n",
    "import pandas as pd\n",
    "import matplotlib.pyplot as plt\n",
    "import numpy as np\n",
    "import datetime\n",
    "import os\n",
    "from scipy.stats import norm\n",
    "from scipy import stats\n",
    "import seaborn as sns\n",
    "sns.set_style(\"darkgrid\")\n",
    "import statsmodels.api as sm\n",
    "import statsmodels.formula.api as smf\n",
    "from sklearn import linear_model, metrics"
   ]
  },
  {
   "cell_type": "markdown",
   "metadata": {},
   "source": [
    "### Drug Shortage Data \n",
    "The Health Canada publishes the Drug shortages homepage.    https://www.drugshortagescanada.ca/\n",
    "The Food and Drug Regulations require drug sellers to report when they are not able to meet demand for a product or when they stop selling a product."
   ]
  },
  {
   "cell_type": "code",
   "execution_count": 2,
   "metadata": {},
   "outputs": [],
   "source": [
    "data = pd.read_csv('./data/search_export_2019_11_18_174700.csv')\n",
    "#data = data.fillna(np.nan)"
   ]
  },
  {
   "cell_type": "code",
   "execution_count": 3,
   "metadata": {},
   "outputs": [
    {
     "data": {
      "text/plain": [
       "Index(['Report ID', 'Drug Identification Number', 'Report Type', 'Brand name',\n",
       "       'Company Name', 'Common or Proper name', 'Ingredients', 'Strength(s)',\n",
       "       'Packaging size', 'Route of administration', 'Shortage status',\n",
       "       'Dosage form(s)', 'ATC Code', 'ATC description',\n",
       "       'Anticipated start date', 'Actual start date', 'Estimated end date',\n",
       "       'Actual end date', 'Reason', 'Date Created', 'Date Updated'],\n",
       "      dtype='object')"
      ]
     },
     "execution_count": 3,
     "metadata": {},
     "output_type": "execute_result"
    }
   ],
   "source": [
    "data.columns"
   ]
  },
  {
   "cell_type": "code",
   "execution_count": 4,
   "metadata": {},
   "outputs": [],
   "source": [
    "# Select only the fields necessary \n",
    "data = data[['Report ID', \n",
    "            'Report Type',\n",
    "            'Company Name',\n",
    "            'Common or Proper name',\n",
    "            'Brand name',\n",
    "            'Shortage status',\n",
    "            'Dosage form(s)',\n",
    "            'ATC description',\n",
    "            'Anticipated start date',\n",
    "            'Actual start date',\n",
    "            'Actual end date',\n",
    "            'Reason']]"
   ]
  },
  {
   "cell_type": "code",
   "execution_count": 5,
   "metadata": {},
   "outputs": [],
   "source": [
    "# Rename column headers without spaces\n",
    "data.rename(columns = {'Report ID': 'ReportID', \n",
    "                    'Report Type':'ReportType',\n",
    "                    'Company Name':'Company',\n",
    "                    'Common or Proper name':'CommonName',\n",
    "                    'Brand name':'BrandName',\n",
    "                    'Shortage status':'ShortageStatus',\n",
    "                    'Dosage form(s)':'DosageForm',\n",
    "                    'ATC description':'ATC',\n",
    "                    'Anticipated start date':'AnticipatedStartDate',\n",
    "                    'Actual start date':'ActualStartDate',\n",
    "                    'Actual end date':'ActualEndDate',\n",
    "                    'Reason':'Reason',}, inplace = True)"
   ]
  },
  {
   "cell_type": "code",
   "execution_count": 6,
   "metadata": {},
   "outputs": [
    {
     "data": {
      "text/plain": [
       "ReportID                   0\n",
       "ReportType                 0\n",
       "Company                   19\n",
       "CommonName                 0\n",
       "BrandName                  0\n",
       "ShortageStatus             0\n",
       "DosageForm                56\n",
       "ATC                       96\n",
       "AnticipatedStartDate    5660\n",
       "ActualStartDate          938\n",
       "ActualEndDate           1995\n",
       "Reason                     0\n",
       "dtype: int64"
      ]
     },
     "execution_count": 6,
     "metadata": {},
     "output_type": "execute_result"
    }
   ],
   "source": [
    "data.isnull().sum()"
   ]
  },
  {
   "cell_type": "code",
   "execution_count": 7,
   "metadata": {},
   "outputs": [
    {
     "data": {
      "text/plain": [
       "(8520, 12)"
      ]
     },
     "execution_count": 7,
     "metadata": {},
     "output_type": "execute_result"
    }
   ],
   "source": [
    "# Reports that indicate \"Avoided Shortage\" which were resolved before the \n",
    "# anticipated start date are not considered and are removed\n",
    "data = data[data.ShortageStatus != 'Avoided shortage']\n",
    "data.shape"
   ]
  },
  {
   "cell_type": "code",
   "execution_count": 8,
   "metadata": {},
   "outputs": [
    {
     "data": {
      "text/plain": [
       "(8469, 12)"
      ]
     },
     "execution_count": 8,
     "metadata": {},
     "output_type": "execute_result"
    }
   ],
   "source": [
    "# Reports with no reported start date is an (Anticipated Shortage) which is not considered in this model\n",
    "data = data[data.ShortageStatus != 'Anticipated shortage']\n",
    "data.shape"
   ]
  },
  {
   "cell_type": "code",
   "execution_count": 9,
   "metadata": {},
   "outputs": [
    {
     "data": {
      "text/plain": [
       "(8469, 12)"
      ]
     },
     "execution_count": 9,
     "metadata": {},
     "output_type": "execute_result"
    }
   ],
   "source": [
    "# Reports with no reported start date is an (Discontinuation status) which is not considered in this model\n",
    "data = data[data.ShortageStatus != 'Discontinuation status']\n",
    "data.shape"
   ]
  },
  {
   "cell_type": "code",
   "execution_count": 10,
   "metadata": {},
   "outputs": [],
   "source": [
    "# The remaining shortage rows with no reported start date are actual shortages but the actual \n",
    "# start date was not entered properly and the anticipated start date is used\n",
    "data['ActualStartDate'] = np.where(data['ActualStartDate'].isnull(),\n",
    "                                              data['AnticipatedStartDate'],\n",
    "                                              data['ActualStartDate'])"
   ]
  },
  {
   "cell_type": "code",
   "execution_count": 11,
   "metadata": {},
   "outputs": [
    {
     "data": {
      "text/plain": [
       "(8321, 12)"
      ]
     },
     "execution_count": 11,
     "metadata": {},
     "output_type": "execute_result"
    }
   ],
   "source": [
    "# Remove shortages where actual start date and actual end date are the same\n",
    "data = data[data.ActualStartDate != data.ActualEndDate]\n",
    "data.shape"
   ]
  },
  {
   "cell_type": "code",
   "execution_count": null,
   "metadata": {},
   "outputs": [],
   "source": []
  },
  {
   "cell_type": "code",
   "execution_count": 12,
   "metadata": {},
   "outputs": [
    {
     "data": {
      "text/plain": [
       "Resolved           6365\n",
       "Actual shortage    1956\n",
       "Name: ShortageStatus, dtype: int64"
      ]
     },
     "execution_count": 12,
     "metadata": {},
     "output_type": "execute_result"
    }
   ],
   "source": [
    "data['ShortageStatus'].value_counts()"
   ]
  },
  {
   "cell_type": "code",
   "execution_count": 13,
   "metadata": {},
   "outputs": [
    {
     "name": "stdout",
     "output_type": "stream",
     "text": [
      "<class 'pandas.core.frame.DataFrame'>\n",
      "Int64Index: 8321 entries, 0 to 8764\n",
      "Data columns (total 12 columns):\n",
      "ReportID                8321 non-null int64\n",
      "ReportType              8321 non-null object\n",
      "Company                 8302 non-null object\n",
      "CommonName              8321 non-null object\n",
      "BrandName               8321 non-null object\n",
      "ShortageStatus          8321 non-null object\n",
      "DosageForm              8265 non-null object\n",
      "ATC                     8226 non-null object\n",
      "AnticipatedStartDate    2687 non-null datetime64[ns]\n",
      "ActualStartDate         8321 non-null datetime64[ns]\n",
      "ActualEndDate           6377 non-null datetime64[ns]\n",
      "Reason                  8321 non-null object\n",
      "dtypes: datetime64[ns](3), int64(1), object(8)\n",
      "memory usage: 845.1+ KB\n"
     ]
    }
   ],
   "source": [
    "# Change dates to datetime type format\n",
    "data[['AnticipatedStartDate',\n",
    "        'ActualStartDate',\n",
    "        'ActualEndDate',]] = data[['AnticipatedStartDate',\n",
    "                                            'ActualStartDate',\n",
    "                                            'ActualEndDate',]].apply(pd.to_datetime)\n",
    "data.info()"
   ]
  },
  {
   "cell_type": "code",
   "execution_count": 14,
   "metadata": {},
   "outputs": [
    {
     "data": {
      "text/plain": [
       "ReportID                   0\n",
       "ReportType                 0\n",
       "Company                   19\n",
       "CommonName                 0\n",
       "BrandName                  0\n",
       "ShortageStatus             0\n",
       "DosageForm                56\n",
       "ATC                       95\n",
       "AnticipatedStartDate    5634\n",
       "ActualStartDate            0\n",
       "ActualEndDate              0\n",
       "Reason                     0\n",
       "dtype: int64"
      ]
     },
     "execution_count": 14,
     "metadata": {},
     "output_type": "execute_result"
    }
   ],
   "source": [
    "# Insert last date of dataset for Actual End Date for Ongoing shortages\n",
    "today = pd.to_datetime('today')\n",
    "data['ActualEndDate'] = np.where(data['ActualEndDate'].isnull(),\n",
    "                                              today,\n",
    "                                              data['ActualEndDate'])\n",
    "\n",
    "data['ActualEndDate'] = data['ActualEndDate'].apply(pd.to_datetime)\n",
    "data.isnull().sum()"
   ]
  },
  {
   "cell_type": "code",
   "execution_count": 15,
   "metadata": {},
   "outputs": [
    {
     "name": "stdout",
     "output_type": "stream",
     "text": [
      "<class 'pandas.core.frame.DataFrame'>\n",
      "Int64Index: 8321 entries, 0 to 8764\n",
      "Data columns (total 12 columns):\n",
      "ReportID                8321 non-null int64\n",
      "ReportType              8321 non-null object\n",
      "Company                 8302 non-null object\n",
      "CommonName              8321 non-null object\n",
      "BrandName               8321 non-null object\n",
      "ShortageStatus          8321 non-null object\n",
      "DosageForm              8265 non-null object\n",
      "ATC                     8226 non-null object\n",
      "AnticipatedStartDate    2687 non-null datetime64[ns]\n",
      "ActualStartDate         8321 non-null datetime64[ns]\n",
      "ActualEndDate           8321 non-null datetime64[ns]\n",
      "Reason                  8321 non-null object\n",
      "dtypes: datetime64[ns](3), int64(1), object(8)\n",
      "memory usage: 845.1+ KB\n"
     ]
    }
   ],
   "source": [
    "data.info()"
   ]
  },
  {
   "cell_type": "code",
   "execution_count": 25,
   "metadata": {},
   "outputs": [],
   "source": [
    "# Shortage Duration is the time from actual start date to the actual end date\n",
    "data['ShortageDuration'] = data.ActualEndDate - data.ActualStartDate\n",
    "\n",
    "#DurationCount=data['ShortageDuration'].value_counts()\n",
    "#print (DurationCount[DurationCount>2])"
   ]
  },
  {
   "cell_type": "code",
   "execution_count": 17,
   "metadata": {},
   "outputs": [
    {
     "name": "stdout",
     "output_type": "stream",
     "text": [
      "<class 'pandas.core.frame.DataFrame'>\n",
      "Int64Index: 8321 entries, 0 to 8764\n",
      "Data columns (total 13 columns):\n",
      "ReportID                8321 non-null int64\n",
      "ReportType              8321 non-null object\n",
      "Company                 8302 non-null object\n",
      "CommonName              8321 non-null object\n",
      "BrandName               8321 non-null object\n",
      "ShortageStatus          8321 non-null object\n",
      "DosageForm              8265 non-null object\n",
      "ATC                     8226 non-null object\n",
      "AnticipatedStartDate    2687 non-null datetime64[ns]\n",
      "ActualStartDate         8321 non-null datetime64[ns]\n",
      "ActualEndDate           8321 non-null datetime64[ns]\n",
      "Reason                  8321 non-null object\n",
      "ShortageDuration        8321 non-null timedelta64[ns]\n",
      "dtypes: datetime64[ns](3), int64(1), object(8), timedelta64[ns](1)\n",
      "memory usage: 910.1+ KB\n"
     ]
    }
   ],
   "source": [
    "data.info()"
   ]
  },
  {
   "cell_type": "code",
   "execution_count": 40,
   "metadata": {},
   "outputs": [
    {
     "data": {
      "text/plain": [
       "<matplotlib.axes._subplots.AxesSubplot at 0x1c217eea10>"
      ]
     },
     "execution_count": 40,
     "metadata": {},
     "output_type": "execute_result"
    },
    {
     "data": {
      "image/png": "[encoded data removed]",
      "text/plain": [
       "<Figure size 1008x432 with 1 Axes>"
      ]
     },
     "metadata": {
      "needs_background": "light"
     },
     "output_type": "display_data"
    }
   ],
   "source": [
    "bin_values = np.arange(start=-2, stop=300, step=1)\n",
    "(data['ShortageDuration'].astype('timedelta64[h]')/24).plot.hist(bins=bin_values,figsize=[14,6],title='Distribution of Shortage Duration in days')"
   ]
  },
  {
   "cell_type": "code",
   "execution_count": 33,
   "metadata": {},
   "outputs": [
    {
     "data": {
      "text/plain": [
       "count    8321.000000\n",
       "mean      239.238673\n",
       "std       396.934261\n",
       "min      -124.000000\n",
       "25%        36.000000\n",
       "50%        92.000000\n",
       "75%       228.000000\n",
       "max      5685.000000\n",
       "Name: ShortageDuration, dtype: float64"
      ]
     },
     "execution_count": 33,
     "metadata": {},
     "output_type": "execute_result"
    }
   ],
   "source": [
    "(data['ShortageDuration'].astype('timedelta64[h]')/24).describe()"
   ]
  },
  {
   "cell_type": "code",
   "execution_count": 244,
   "metadata": {},
   "outputs": [
    {
     "data": {
      "text/plain": [
       "False    8321\n",
       "Name: ReportID, dtype: int64"
      ]
     },
     "execution_count": 244,
     "metadata": {},
     "output_type": "execute_result"
    }
   ],
   "source": [
    "data[\"ReportID\"].duplicated().value_counts()"
   ]
  },
  {
   "cell_type": "code",
   "execution_count": 243,
   "metadata": {},
   "outputs": [
    {
     "data": {
      "text/plain": [
       "True     8170\n",
       "False     151\n",
       "Name: Company, dtype: int64"
      ]
     },
     "execution_count": 243,
     "metadata": {},
     "output_type": "execute_result"
    }
   ],
   "source": [
    "data[\"Company\"].duplicated().value_counts()"
   ]
  },
  {
   "cell_type": "code",
   "execution_count": 267,
   "metadata": {},
   "outputs": [
    {
     "data": {
      "text/plain": [
       "0   280 days 17:36:07.166715\n",
       "1   322 days 17:36:07.166715\n",
       "Name: ActualEndDate, dtype: timedelta64[ns]"
      ]
     },
     "execution_count": 267,
     "metadata": {},
     "output_type": "execute_result"
    }
   ],
   "source": [
    "diff = today - data.ActualEndDate[:2]\n",
    "diff"
   ]
  },
  {
   "cell_type": "code",
   "execution_count": 286,
   "metadata": {},
   "outputs": [
    {
     "data": {
      "text/plain": [
       "<matplotlib.axes._subplots.AxesSubplot at 0x1c26b086d0>"
      ]
     },
     "execution_count": 286,
     "metadata": {},
     "output_type": "execute_result"
    },
    {
     "data": {
      "image/png": "[encoded data removed]",
      "text/plain": [
       "<Figure size 1008x432 with 1 Axes>"
      ]
     },
     "metadata": {},
     "output_type": "display_data"
    }
   ],
   "source": [
    "# Determine the time from the end of short\n",
    "data['TimeFromEnd'] = today - data.ActualEndDate\n",
    "bin_values = np.arange(start=1, stop=1000, step=5)\n",
    "(data['TimeFromEnd'].astype('timedelta64[h]')/24).plot.hist(bins=bin_values,figsize=[14,6],color='r',title='Distribution of Time since last short in days')"
   ]
  },
  {
   "cell_type": "code",
   "execution_count": null,
   "metadata": {},
   "outputs": [],
   "source": []
  },
  {
   "cell_type": "code",
   "execution_count": 27,
   "metadata": {},
   "outputs": [
    {
     "ename": "ValueError",
     "evalue": "The truth value of a DataFrame is ambiguous. Use a.empty, a.bool(), a.item(), a.any() or a.all().",
     "output_type": "error",
     "traceback": [
      "\u001b[0;31m---------------------------------------------------------------------------\u001b[0m",
      "\u001b[0;31mValueError\u001b[0m                                Traceback (most recent call last)",
      "\u001b[0;32m<ipython-input-27-69f589635141>\u001b[0m in \u001b[0;36m<module>\u001b[0;34m\u001b[0m\n\u001b[1;32m      2\u001b[0m \u001b[0mdata_no_avoided_shortage\u001b[0m \u001b[0;34m=\u001b[0m \u001b[0;34m(\u001b[0m\u001b[0mdata\u001b[0m\u001b[0;34m[\u001b[0m\u001b[0;34m'Shortage status'\u001b[0m\u001b[0;34m]\u001b[0m \u001b[0;34m!=\u001b[0m \u001b[0;34m'Avoided shortage'\u001b[0m\u001b[0;34m)\u001b[0m\u001b[0;34m\u001b[0m\u001b[0;34m\u001b[0m\u001b[0m\n\u001b[1;32m      3\u001b[0m \u001b[0mdata_no_anticipated_shortage\u001b[0m \u001b[0;34m=\u001b[0m \u001b[0;34m(\u001b[0m\u001b[0mdata\u001b[0m\u001b[0;34m[\u001b[0m\u001b[0;34m'Shortage status'\u001b[0m\u001b[0;34m]\u001b[0m \u001b[0;34m!=\u001b[0m \u001b[0;34m'Anticipated shortage'\u001b[0m\u001b[0;34m)\u001b[0m\u001b[0;34m\u001b[0m\u001b[0;34m\u001b[0m\u001b[0m\n\u001b[0;32m----> 4\u001b[0;31m \u001b[0mdata_mod\u001b[0m \u001b[0;34m=\u001b[0m \u001b[0mdata\u001b[0m\u001b[0;34m[\u001b[0m\u001b[0mdata_no_discontinuation\u001b[0m\u001b[0;34m]\u001b[0m \u001b[0;32mor\u001b[0m \u001b[0mdata\u001b[0m\u001b[0;34m[\u001b[0m\u001b[0mdata_no_avoided_shortage\u001b[0m\u001b[0;34m]\u001b[0m\u001b[0;34m\u001b[0m\u001b[0;34m\u001b[0m\u001b[0m\n\u001b[0m\u001b[1;32m      5\u001b[0m \u001b[0;31m#data_mod = data[data_no_avoided_shortage]\u001b[0m\u001b[0;34m\u001b[0m\u001b[0;34m\u001b[0m\u001b[0;34m\u001b[0m\u001b[0m\n\u001b[1;32m      6\u001b[0m \u001b[0;31m#data_mod = data[data_no_anticipated_shortage]\u001b[0m\u001b[0;34m\u001b[0m\u001b[0;34m\u001b[0m\u001b[0;34m\u001b[0m\u001b[0m\n",
      "\u001b[0;32m~/miniconda3/envs/insight/lib/python3.7/site-packages/pandas/core/generic.py\u001b[0m in \u001b[0;36m__nonzero__\u001b[0;34m(self)\u001b[0m\n\u001b[1;32m   1553\u001b[0m             \u001b[0;34m\"The truth value of a {0} is ambiguous. \"\u001b[0m\u001b[0;34m\u001b[0m\u001b[0;34m\u001b[0m\u001b[0m\n\u001b[1;32m   1554\u001b[0m             \"Use a.empty, a.bool(), a.item(), a.any() or a.all().\".format(\n\u001b[0;32m-> 1555\u001b[0;31m                 \u001b[0mself\u001b[0m\u001b[0;34m.\u001b[0m\u001b[0m__class__\u001b[0m\u001b[0;34m.\u001b[0m\u001b[0m__name__\u001b[0m\u001b[0;34m\u001b[0m\u001b[0;34m\u001b[0m\u001b[0m\n\u001b[0m\u001b[1;32m   1556\u001b[0m             )\n\u001b[1;32m   1557\u001b[0m         )\n",
      "\u001b[0;31mValueError\u001b[0m: The truth value of a DataFrame is ambiguous. Use a.empty, a.bool(), a.item(), a.any() or a.all()."
     ]
    }
   ],
   "source": [
    "data_no_discontinuation = (data['Shortage status'] != 'Discontinuation status')\n",
    "data_no_avoided_shortage = (data['Shortage status'] != 'Avoided shortage')\n",
    "data_no_anticipated_shortage = (data['Shortage status'] != 'Anticipated shortage')\n",
    "data_mod = data[data_no_discontinuation] or data[data_no_avoided_shortage]\n",
    "#data_mod = data[data_no_avoided_shortage]\n",
    "#data_mod = data[data_no_anticipated_shortage]"
   ]
  },
  {
   "cell_type": "code",
   "execution_count": null,
   "metadata": {},
   "outputs": [],
   "source": [
    "data['days_short']= data['']"
   ]
  },
  {
   "cell_type": "code",
   "execution_count": 14,
   "metadata": {},
   "outputs": [
    {
     "data": {
      "text/html": [
       "<div>\n",
       "<style scoped>\n",
       "    .dataframe tbody tr th:only-of-type {\n",
       "        vertical-align: middle;\n",
       "    }\n",
       "\n",
       "    .dataframe tbody tr th {\n",
       "        vertical-align: top;\n",
       "    }\n",
       "\n",
       "    .dataframe thead th {\n",
       "        text-align: right;\n",
       "    }\n",
       "</style>\n",
       "<table border=\"1\" class=\"dataframe\">\n",
       "  <thead>\n",
       "    <tr style=\"text-align: right;\">\n",
       "      <th>Shortage status</th>\n",
       "      <th>Actual shortage</th>\n",
       "      <th>Anticipated shortage</th>\n",
       "      <th>Avoided shortage</th>\n",
       "      <th>Discontinuation status</th>\n",
       "      <th>Resolved</th>\n",
       "    </tr>\n",
       "    <tr>\n",
       "      <th>Common or Proper name</th>\n",
       "      <th></th>\n",
       "      <th></th>\n",
       "      <th></th>\n",
       "      <th></th>\n",
       "      <th></th>\n",
       "    </tr>\n",
       "  </thead>\n",
       "  <tbody>\n",
       "    <tr>\n",
       "      <td>% 5 Dextrose Injection USP</td>\n",
       "      <td>NaN</td>\n",
       "      <td>NaN</td>\n",
       "      <td>NaN</td>\n",
       "      <td>NaN</td>\n",
       "      <td>1.0</td>\n",
       "    </tr>\n",
       "    <tr>\n",
       "      <td>%10 Dextrose Injection USP (500ml)</td>\n",
       "      <td>NaN</td>\n",
       "      <td>NaN</td>\n",
       "      <td>NaN</td>\n",
       "      <td>NaN</td>\n",
       "      <td>1.0</td>\n",
       "    </tr>\n",
       "    <tr>\n",
       "      <td>(hepatitis B vaccine [recombinant])</td>\n",
       "      <td>4.0</td>\n",
       "      <td>NaN</td>\n",
       "      <td>NaN</td>\n",
       "      <td>NaN</td>\n",
       "      <td>2.0</td>\n",
       "    </tr>\n",
       "    <tr>\n",
       "      <td>(measles, mumps and rubella virus vaccine, live, attenuated) Lyophilized powder for injection</td>\n",
       "      <td>NaN</td>\n",
       "      <td>NaN</td>\n",
       "      <td>NaN</td>\n",
       "      <td>NaN</td>\n",
       "      <td>4.0</td>\n",
       "    </tr>\n",
       "    <tr>\n",
       "      <td>(mirtazapine) Orally Disintegrating Tablets</td>\n",
       "      <td>NaN</td>\n",
       "      <td>NaN</td>\n",
       "      <td>1.0</td>\n",
       "      <td>NaN</td>\n",
       "      <td>4.0</td>\n",
       "    </tr>\n",
       "    <tr>\n",
       "      <td>...</td>\n",
       "      <td>...</td>\n",
       "      <td>...</td>\n",
       "      <td>...</td>\n",
       "      <td>...</td>\n",
       "      <td>...</td>\n",
       "    </tr>\n",
       "    <tr>\n",
       "      <td>viacoram</td>\n",
       "      <td>NaN</td>\n",
       "      <td>NaN</td>\n",
       "      <td>NaN</td>\n",
       "      <td>NaN</td>\n",
       "      <td>1.0</td>\n",
       "    </tr>\n",
       "    <tr>\n",
       "      <td>vorinostat capsules</td>\n",
       "      <td>NaN</td>\n",
       "      <td>NaN</td>\n",
       "      <td>NaN</td>\n",
       "      <td>NaN</td>\n",
       "      <td>1.0</td>\n",
       "    </tr>\n",
       "    <tr>\n",
       "      <td>warfarin</td>\n",
       "      <td>NaN</td>\n",
       "      <td>NaN</td>\n",
       "      <td>NaN</td>\n",
       "      <td>NaN</td>\n",
       "      <td>1.0</td>\n",
       "    </tr>\n",
       "    <tr>\n",
       "      <td>zafirlukast tablets</td>\n",
       "      <td>NaN</td>\n",
       "      <td>NaN</td>\n",
       "      <td>1.0</td>\n",
       "      <td>NaN</td>\n",
       "      <td>NaN</td>\n",
       "    </tr>\n",
       "    <tr>\n",
       "      <td>zolmitriptan</td>\n",
       "      <td>NaN</td>\n",
       "      <td>NaN</td>\n",
       "      <td>NaN</td>\n",
       "      <td>NaN</td>\n",
       "      <td>2.0</td>\n",
       "    </tr>\n",
       "  </tbody>\n",
       "</table>\n",
       "<p>2934 rows × 5 columns</p>\n",
       "</div>"
      ],
      "text/plain": [
       "Shortage status                                     Actual shortage  \\\n",
       "Common or Proper name                                                 \n",
       "% 5 Dextrose Injection USP                                      NaN   \n",
       "%10 Dextrose Injection USP (500ml)                              NaN   \n",
       "(hepatitis B vaccine [recombinant])                             4.0   \n",
       "(measles, mumps and rubella virus vaccine, live...              NaN   \n",
       "(mirtazapine) Orally Disintegrating Tablets                     NaN   \n",
       "...                                                             ...   \n",
       "viacoram                                                        NaN   \n",
       "vorinostat capsules                                             NaN   \n",
       "warfarin                                                        NaN   \n",
       "zafirlukast tablets                                             NaN   \n",
       "zolmitriptan                                                    NaN   \n",
       "\n",
       "Shortage status                                     Anticipated shortage  \\\n",
       "Common or Proper name                                                      \n",
       "% 5 Dextrose Injection USP                                           NaN   \n",
       "%10 Dextrose Injection USP (500ml)                                   NaN   \n",
       "(hepatitis B vaccine [recombinant])                                  NaN   \n",
       "(measles, mumps and rubella virus vaccine, live...                   NaN   \n",
       "(mirtazapine) Orally Disintegrating Tablets                          NaN   \n",
       "...                                                                  ...   \n",
       "viacoram                                                             NaN   \n",
       "vorinostat capsules                                                  NaN   \n",
       "warfarin                                                             NaN   \n",
       "zafirlukast tablets                                                  NaN   \n",
       "zolmitriptan                                                         NaN   \n",
       "\n",
       "Shortage status                                     Avoided shortage  \\\n",
       "Common or Proper name                                                  \n",
       "% 5 Dextrose Injection USP                                       NaN   \n",
       "%10 Dextrose Injection USP (500ml)                               NaN   \n",
       "(hepatitis B vaccine [recombinant])                              NaN   \n",
       "(measles, mumps and rubella virus vaccine, live...               NaN   \n",
       "(mirtazapine) Orally Disintegrating Tablets                      1.0   \n",
       "...                                                              ...   \n",
       "viacoram                                                         NaN   \n",
       "vorinostat capsules                                              NaN   \n",
       "warfarin                                                         NaN   \n",
       "zafirlukast tablets                                              1.0   \n",
       "zolmitriptan                                                     NaN   \n",
       "\n",
       "Shortage status                                     Discontinuation status  \\\n",
       "Common or Proper name                                                        \n",
       "% 5 Dextrose Injection USP                                             NaN   \n",
       "%10 Dextrose Injection USP (500ml)                                     NaN   \n",
       "(hepatitis B vaccine [recombinant])                                    NaN   \n",
       "(measles, mumps and rubella virus vaccine, live...                     NaN   \n",
       "(mirtazapine) Orally Disintegrating Tablets                            NaN   \n",
       "...                                                                    ...   \n",
       "viacoram                                                               NaN   \n",
       "vorinostat capsules                                                    NaN   \n",
       "warfarin                                                               NaN   \n",
       "zafirlukast tablets                                                    NaN   \n",
       "zolmitriptan                                                           NaN   \n",
       "\n",
       "Shortage status                                     Resolved  \n",
       "Common or Proper name                                         \n",
       "% 5 Dextrose Injection USP                               1.0  \n",
       "%10 Dextrose Injection USP (500ml)                       1.0  \n",
       "(hepatitis B vaccine [recombinant])                      2.0  \n",
       "(measles, mumps and rubella virus vaccine, live...       4.0  \n",
       "(mirtazapine) Orally Disintegrating Tablets              4.0  \n",
       "...                                                      ...  \n",
       "viacoram                                                 1.0  \n",
       "vorinostat capsules                                      1.0  \n",
       "warfarin                                                 1.0  \n",
       "zafirlukast tablets                                      NaN  \n",
       "zolmitriptan                                             2.0  \n",
       "\n",
       "[2934 rows x 5 columns]"
      ]
     },
     "execution_count": 14,
     "metadata": {},
     "output_type": "execute_result"
    }
   ],
   "source": [
    "group_by_carrier = data.groupby(['Common or Proper name','Shortage status'])\n",
    "#group_by_carrier.size()\n",
    "count_delays_by_carrier = group_by_carrier.size().unstack()\n",
    "count_delays_by_carrier\n",
    "#count_delays_by_carrier.plot(kind='barh', stacked=True, figsize=[16,6], colormap='winter')"
   ]
  },
  {
   "cell_type": "code",
   "execution_count": null,
   "metadata": {},
   "outputs": [],
   "source": []
  }
 ],
 "metadata": {
  "kernelspec": {
   "display_name": "insight",
   "language": "python",
   "name": "insight"
  },
  "language_info": {
   "codemirror_mode": {
    "name": "ipython",
    "version": 3
   },
   "file_extension": ".py",
   "mimetype": "text/x-python",
   "name": "python",
   "nbconvert_exporter": "python",
   "pygments_lexer": "ipython3",
   "version": "3.7.4"
  }
 },
 "nbformat": 4,
 "nbformat_minor": 2
}
